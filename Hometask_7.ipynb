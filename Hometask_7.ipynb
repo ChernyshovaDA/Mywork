{
  "nbformat": 4,
  "nbformat_minor": 0,
  "metadata": {
    "colab": {
      "name": "Hometask_7.ipynb",
      "provenance": []
    },
    "kernelspec": {
      "name": "python3",
      "display_name": "Python 3"
    },
    "language_info": {
      "name": "python"
    }
  },
  "cells": [
    {
      "cell_type": "code",
      "execution_count": 3,
      "metadata": {
        "id": "eetFmuqMP7XA"
      },
      "outputs": [],
      "source": [
        "from PIL import Image\n",
        "import matplotlib.pyplot as plt\n",
        "import numpy as np\n",
        "import requests\n",
        "from sklearn.datasets import fetch_openml\n",
        "digits = fetch_openml('mnist_784')\n",
        "images = digits.data.values.reshape(-1, 28, 28)\n",
        "from sklearn.decomposition import PCA\n",
        "\n",
        "pca = PCA(n_components=50)\n",
        "\n",
        "X_transformed = pca.fit_transform(digits.data.astype(float))\n",
        "X_restored = pca.inverse_transform(X_transformed)\n"
      ]
    },
    {
      "cell_type": "code",
      "source": [
        "%matplotlib inline\n",
        "i = 540\n",
        "fig, ax = plt.subplots(1, 2)\n",
        "ax[0].imshow(images[i], cmap='gray')\n",
        "ax[1].imshow(X_restored[i].reshape(28, 28), cmap='gray')\n",
        "ax[0].set_title('Original')\n",
        "ax[1].set_title('Restored')\n",
        "plt.show()"
      ],
      "metadata": {
        "colab": {
          "base_uri": "https://localhost:8080/",
          "height": 216
        },
        "id": "6kQv2qcHF-Aa",
        "outputId": "77a9fa88-25f8-4f88-e322-4f29717cf43a"
      },
      "execution_count": 4,
      "outputs": [
        {
          "output_type": "display_data",
          "data": {
            "image/png": "[encoded data removed]",
            "text/plain": [
              "<Figure size 432x288 with 2 Axes>"
            ]
          },
          "metadata": {
            "needs_background": "light"
          }
        }
      ]
    },
    {
      "cell_type": "markdown",
      "source": [
        "Выпишите явное линейное преобразование, которое отображает точку из подространства главных компонент в исходное пространство (заполните ??? так, чтобы результат совпал с результатом в предыдущей ячейке)"
      ],
      "metadata": {
        "id": "MJFm6Uq4Saiw"
      }
    },
    {
      "cell_type": "code",
      "source": [
        "res = np.dot(X_transformed, pca.components_) + pca.mean_\n",
        "\n",
        "i = 540\n",
        "fig, ax = plt.subplots(1, 2)\n",
        "ax[0].imshow(images[i], cmap='gray')\n",
        "ax[1].imshow(res[i].reshape(28, 28), cmap='gray')\n",
        "ax[0].set_title('Original')\n",
        "ax[1].set_title('Restored')\n",
        "plt.show()"
      ],
      "metadata": {
        "colab": {
          "base_uri": "https://localhost:8080/",
          "height": 216
        },
        "id": "crmnB0rHSmCP",
        "outputId": "a40f52c5-44be-4ada-e5b0-c278136e7220"
      },
      "execution_count": 7,
      "outputs": [
        {
          "output_type": "display_data",
          "data": {
            "image/png": "[encoded data removed]",
            "text/plain": [
              "<Figure size 432x288 with 2 Axes>"
            ]
          },
          "metadata": {
            "needs_background": "light"
          }
        }
      ]
    },
    {
      "cell_type": "markdown",
      "source": [
        " Определите, сколько нужно взять главных компонент, чтобы объяснить 99%, 95%, 90%, и 85% исходной дисперсии."
      ],
      "metadata": {
        "id": "e6htFbA_SsXI"
      }
    },
    {
      "cell_type": "code",
      "source": [
        "\n",
        "pca = PCA(n_components=50)\n",
        "pca99=PCA(n_components=0.99)\n",
        "pca95=PCA(n_components=0.95)\n",
        "pca90=PCA(n_components=0.90)\n",
        "pca85=PCA(n_components=0.85)\n",
        "\n",
        "a = pca99.inverse_transform(pca99.fit_transform(digits.data.astype(float)))\n",
        "b = pca95.inverse_transform(pca95.fit_transform(digits.data.astype(float)))\n",
        "c = pca90.inverse_transform(pca90.fit_transform(digits.data.astype(float)))\n",
        "d = pca85.inverse_transform(pca85.fit_transform(digits.data.astype(float)))\n",
        "print(\"кол-во компонент:\",pca99.n_components_,pca95.n_components_,pca90.n_components_,pca85.n_components_)\n"
      ],
      "metadata": {
        "colab": {
          "base_uri": "https://localhost:8080/"
        },
        "id": "kzPKosV9SwI2",
        "outputId": "5b6c4aa7-2bec-483a-cd84-fce4228c10ee"
      },
      "execution_count": 16,
      "outputs": [
        {
          "output_type": "stream",
          "name": "stdout",
          "text": [
            "кол-во компонент: 331 154 87 59\n"
          ]
        }
      ]
    },
    {
      "cell_type": "markdown",
      "source": [
        "\n",
        "Нарисуйте пример исходного изображения и результат восстановления из числа компонент, которое вы нашли в предыдущей задаче."
      ],
      "metadata": {
        "id": "B5h4tVdj31s7"
      }
    },
    {
      "cell_type": "code",
      "source": [
        "fig, ax = plt.subplots(1, 5,figsize=(20, 30))\n",
        "i=1000\n",
        "ax[0].imshow(images[i], cmap='gray')\n",
        "ax[1].imshow(a[i].reshape(28, 28), cmap='gray')\n",
        "ax[2].imshow(b[i].reshape(28, 28), cmap='gray')\n",
        "ax[3].imshow(c[i].reshape(28, 28), cmap='gray')\n",
        "ax[4].imshow(d[i].reshape(28, 28), cmap='gray')"
      ],
      "metadata": {
        "colab": {
          "base_uri": "https://localhost:8080/",
          "height": 209
        },
        "id": "sqaJrAjx36n3",
        "outputId": "e19dc4e4-f485-4345-d007-052dc36a22e1"
      },
      "execution_count": 33,
      "outputs": [
        {
          "output_type": "execute_result",
          "data": {
            "text/plain": [
              "<matplotlib.image.AxesImage at 0x7fed2781c910>"
            ]
          },
          "metadata": {},
          "execution_count": 33
        },
        {
          "output_type": "display_data",
          "data": {
            "image/png": "[encoded data removed]",
            "text/plain": [
              "<Figure size 1440x2160 with 5 Axes>"
            ]
          },
          "metadata": {
            "needs_background": "light"
          }
        }
      ]
    }
  ]
}