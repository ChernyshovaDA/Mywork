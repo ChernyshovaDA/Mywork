{
 "cells": [
  {
   "cell_type": "code",
   "execution_count": 26,
   "metadata": {
    "scrolled": true
   },
   "outputs": [],
   "source": [
    "import numpy as np"
   ]
  },
  {
   "cell_type": "markdown",
   "metadata": {},
   "source": [
    "1) Создайте двумерный массив 10x3, заполненный случайными значениями. В каждой строке выберите значение, наиболее близкое к 0.5."
   ]
  },
  {
   "cell_type": "code",
   "execution_count": 33,
   "metadata": {},
   "outputs": [
    {
     "name": "stdout",
     "output_type": "stream",
     "text": [
      "[[0.76589283 0.28082355 0.42113637]\n",
      " [0.55089907 0.77434734 0.72975126]\n",
      " [0.59419342 0.26076759 0.17148389]\n",
      " [0.04191553 0.96156358 0.37992664]\n",
      " [0.74330585 0.63532146 0.59786584]\n",
      " [0.92636613 0.15791141 0.47301454]\n",
      " [0.76788098 0.41462841 0.6826077 ]\n",
      " [0.3648652  0.22583314 0.99728915]\n",
      " [0.12878495 0.25078157 0.48355234]\n",
      " [0.71977803 0.43250464 0.78249061]]\n"
     ]
    },
    {
     "data": {
      "text/plain": [
       "[0.42113636957339884,\n",
       " 0.5508990725503181,\n",
       " 0.5941934247184677,\n",
       " 0.3799266414563861,\n",
       " 0.5978658358398895,\n",
       " 0.47301453693252205,\n",
       " 0.414628405019409,\n",
       " 0.36486520404822786,\n",
       " 0.48355233758547345,\n",
       " 0.43250463594431876]"
      ]
     },
     "execution_count": 33,
     "metadata": {},
     "output_type": "execute_result"
    }
   ],
   "source": [
    "a=np.random.random((10,3))\n",
    "print(a)\n",
    "[a[i,np.argmin(np.abs(a[i,:]-0.5))] for i in range(10)]"
   ]
  },
  {
   "cell_type": "markdown",
   "metadata": {},
   "source": [
    "2) Создайте двумерный массив 6x6, заполненный случайными значениями. Затем сумму по каждой строке поделите на минимальный элемент из столбца с тем же индексом."
   ]
  },
  {
   "cell_type": "code",
   "execution_count": 35,
   "metadata": {},
   "outputs": [
    {
     "name": "stdout",
     "output_type": "stream",
     "text": [
      "[[0.65427098 0.81011025 0.23918205 0.22735318 0.22224496 0.09723644]\n",
      " [0.66140435 0.60094884 0.16557479 0.8694503  0.78981022 0.59039995]\n",
      " [0.83036877 0.27363902 0.54554332 0.01342752 0.47988156 0.31405564]\n",
      " [0.52077989 0.91027375 0.00980768 0.58652709 0.09840181 0.41218274]\n",
      " [0.30795906 0.16518028 0.35769667 0.47574049 0.0764238  0.93208711]\n",
      " [0.85351982 0.68556176 0.43245434 0.2558265  0.28095811 0.76686808]]\n"
     ]
    },
    {
     "data": {
      "text/plain": [
       "[7.307457922504764,\n",
       " 22.26408942311902,\n",
       " 250.50939413803667,\n",
       " 189.01280326703431,\n",
       " 30.29275461178182,\n",
       " 33.68272969590056]"
      ]
     },
     "execution_count": 35,
     "metadata": {},
     "output_type": "execute_result"
    }
   ],
   "source": [
    "a=np.random.random((6,6))\n",
    "print(a)\n",
    "[np.sum(a[j,:])/np.min(a[:,j]) for j in range(6)]"
   ]
  },
  {
   "cell_type": "markdown",
   "metadata": {},
   "source": [
    "3) На примере массива x = np.array([6, 2, 0, 3, 0, 0, 5, 7, 0]) найдите максимальный элемент в массиве среди элементов, перед которыми стоит ноль."
   ]
  },
  {
   "cell_type": "code",
   "execution_count": 49,
   "metadata": {},
   "outputs": [
    {
     "data": {
      "text/plain": [
       "5"
      ]
     },
     "execution_count": 49,
     "metadata": {},
     "output_type": "execute_result"
    }
   ],
   "source": [
    "x = np.array([6, 2, 0, 3, 0, 0, 5, 7, 0])\n",
    "s= [x[i] for i in range(1,9) if x[i-1]==0]\n",
    "np.max(s)"
   ]
  },
  {
   "cell_type": "markdown",
   "metadata": {},
   "source": [
    "4) Пусть заданы два массива x = np.ones(10) и i = np.array([0, 1, 2, 3, 5, 5, 5, 8]). Прибавьте единицу к тем элементам массива x, индексы которых указаны в массиве i. В случае, если некоторый индекс встретился в массиве i несколько раз, прибавьте к соответствующему элементу массива x число вхождений данного индекса в массив i."
   ]
  },
  {
   "cell_type": "code",
   "execution_count": 54,
   "metadata": {},
   "outputs": [
    {
     "name": "stdout",
     "output_type": "stream",
     "text": [
      "[2. 2. 2. 2. 1. 4. 1. 1. 2. 1.]\n"
     ]
    }
   ],
   "source": [
    "x = np.ones(10) \n",
    "i = np.array([0, 1, 2, 3, 5, 5, 5, 8])\n",
    "for k in i:\n",
    "    x[k]=x[k]+1 \n",
    "print (x)"
   ]
  },
  {
   "cell_type": "markdown",
   "metadata": {},
   "source": [
    "5) Написать функцию, реализующую алгоритм k-means. Входные и выходные значения функции должны быть аналогичны https://docs.scipy.org/doc/scipy-0.15.1/reference/generated/scipy.cluster.vq.kmeans.html. Функция должна содержать не более двух циклов while (for)."
   ]
  },
  {
   "cell_type": "code",
   "execution_count": null,
   "metadata": {},
   "outputs": [],
   "source": []
  }
 ],
 "metadata": {
  "kernelspec": {
   "display_name": "Python 3",
   "language": "python",
   "name": "python3"
  },
  "language_info": {
   "codemirror_mode": {
    "name": "ipython",
    "version": 3
   },
   "file_extension": ".py",
   "mimetype": "text/x-python",
   "name": "python",
   "nbconvert_exporter": "python",
   "pygments_lexer": "ipython3",
   "version": "3.7.0"
  }
 },
 "nbformat": 4,
 "nbformat_minor": 2
}
